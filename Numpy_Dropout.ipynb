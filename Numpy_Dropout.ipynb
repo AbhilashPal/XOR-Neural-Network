{
  "nbformat": 4,
  "nbformat_minor": 0,
  "metadata": {
    "colab": {
      "name": "Forward Prop and Dropout.ipynb",
      "version": "0.3.2",
      "provenance": [],
      "include_colab_link": true
    },
    "kernelspec": {
      "name": "python3",
      "display_name": "Python 3"
    }
  },
  "cells": [
    {
      "cell_type": "markdown",
      "metadata": {
        "id": "view-in-github",
        "colab_type": "text"
      },
      "source": [
        "<a href=\"https://colab.research.google.com/github/AbhilashPal/XOR-Neural-Network/blob/master/Numpy_Dropout.ipynb\" target=\"_parent\"><img src=\"https://colab.research.google.com/assets/colab-badge.svg\" alt=\"Open In Colab\"/></a>"
      ]
    },
    {
      "metadata": {
        "id": "WPrU5RnUVpM4",
        "colab_type": "text"
      },
      "cell_type": "markdown",
      "source": [
        "### **Import Numpy **"
      ]
    },
    {
      "metadata": {
        "id": "YkbB6k0LVwpI",
        "colab_type": "code",
        "colab": {}
      },
      "cell_type": "code",
      "source": [
        "import numpy as np"
      ],
      "execution_count": 0,
      "outputs": []
    },
    {
      "metadata": {
        "id": "P0enoHS0Vy6J",
        "colab_type": "text"
      },
      "cell_type": "markdown",
      "source": [
        "### Define Sigmoid **Function**"
      ]
    },
    {
      "metadata": {
        "id": "UWOwTl29Uu8_",
        "colab_type": "code",
        "colab": {}
      },
      "cell_type": "code",
      "source": [
        "def sigmoid(x,deriv = False):\n",
        "\tif(deriv==True):\n",
        "\t\treturn x*(1-x)\n",
        "\treturn 1/(1+np.exp(-x))"
      ],
      "execution_count": 0,
      "outputs": []
    },
    {
      "metadata": {
        "id": "chY6haxhWBLE",
        "colab_type": "text"
      },
      "cell_type": "markdown",
      "source": [
        "### **Form Dummy Input Data**"
      ]
    },
    {
      "metadata": {
        "id": "ZGEoLos6TWHv",
        "colab_type": "code",
        "colab": {
          "base_uri": "https://localhost:8080/",
          "height": 34
        },
        "outputId": "2d3b7d07-4a74-4ab2-edb2-03f6ae2bcbec"
      },
      "cell_type": "code",
      "source": [
        "X = np.random.rand(1,3)\n",
        "X.shape"
      ],
      "execution_count": 9,
      "outputs": [
        {
          "output_type": "execute_result",
          "data": {
            "text/plain": [
              "(1, 3)"
            ]
          },
          "metadata": {
            "tags": []
          },
          "execution_count": 9
        }
      ]
    },
    {
      "metadata": {
        "id": "S_z5sbEQUoXL",
        "colab_type": "code",
        "colab": {
          "base_uri": "https://localhost:8080/",
          "height": 34
        },
        "outputId": "6752b110-84bc-47d9-c5d9-95c636051b2e"
      },
      "cell_type": "code",
      "source": [
        "X"
      ],
      "execution_count": 11,
      "outputs": [
        {
          "output_type": "execute_result",
          "data": {
            "text/plain": [
              "array([[0.18408486, 0.60009536, 0.07382265]])"
            ]
          },
          "metadata": {
            "tags": []
          },
          "execution_count": 11
        }
      ]
    },
    {
      "metadata": {
        "id": "GHUJ1nR3Tj2P",
        "colab_type": "text"
      },
      "cell_type": "markdown",
      "source": [
        "### **Initialize Weights and Biases**"
      ]
    },
    {
      "metadata": {
        "id": "_Ij3R5kNTaq5",
        "colab_type": "code",
        "colab": {}
      },
      "cell_type": "code",
      "source": [
        "W1 = np.random.rand(3,4)\n",
        "W2 = np.random.rand(4,4)\n",
        "W3 = np.random.rand(4,1)\n",
        "\n",
        "b1 = np.random.rand(1,4)\n",
        "b2 = np.random.rand(1,4)\n",
        "b3 = np.random.rand(1,1)"
      ],
      "execution_count": 0,
      "outputs": []
    },
    {
      "metadata": {
        "id": "XFxn2lzDUkpm",
        "colab_type": "text"
      },
      "cell_type": "markdown",
      "source": [
        "### **Forward Propagation**"
      ]
    },
    {
      "metadata": {
        "id": "L0dMC38sUhu2",
        "colab_type": "code",
        "colab": {}
      },
      "cell_type": "code",
      "source": [
        "#layer 1\n",
        "Z1 = np.dot(X,W1) + b1"
      ],
      "execution_count": 0,
      "outputs": []
    },
    {
      "metadata": {
        "id": "V5NmjsZfU6FU",
        "colab_type": "code",
        "colab": {
          "base_uri": "https://localhost:8080/",
          "height": 34
        },
        "outputId": "81dca388-1982-44a5-8b7b-c41480bb06f4"
      },
      "cell_type": "code",
      "source": [
        "Z1.shape"
      ],
      "execution_count": 14,
      "outputs": [
        {
          "output_type": "execute_result",
          "data": {
            "text/plain": [
              "(1, 4)"
            ]
          },
          "metadata": {
            "tags": []
          },
          "execution_count": 14
        }
      ]
    },
    {
      "metadata": {
        "id": "SPyrffecVCJy",
        "colab_type": "code",
        "colab": {}
      },
      "cell_type": "code",
      "source": [
        "A1 = sigmoid(Z1)"
      ],
      "execution_count": 0,
      "outputs": []
    },
    {
      "metadata": {
        "id": "ASPSj8q2U6k5",
        "colab_type": "code",
        "colab": {}
      },
      "cell_type": "code",
      "source": [
        "#layer 2\n",
        "Z2 = np.dot(A1,W2) + b2\n",
        "A2 = sigmoid(Z2)\n",
        "\n",
        "#layer 3\n",
        "Z3 = np.dot(A2,W3) + b3\n",
        "A3 = sigmoid(Z3)"
      ],
      "execution_count": 0,
      "outputs": []
    },
    {
      "metadata": {
        "id": "yFEg0bFKVa3h",
        "colab_type": "code",
        "colab": {
          "base_uri": "https://localhost:8080/",
          "height": 34
        },
        "outputId": "41b382a4-00f7-4be0-d3c9-472e6205c035"
      },
      "cell_type": "code",
      "source": [
        "A3"
      ],
      "execution_count": 19,
      "outputs": [
        {
          "output_type": "execute_result",
          "data": {
            "text/plain": [
              "array([[0.96067345]])"
            ]
          },
          "metadata": {
            "tags": []
          },
          "execution_count": 19
        }
      ]
    },
    {
      "metadata": {
        "id": "6-IkQD4xWOIj",
        "colab_type": "text"
      },
      "cell_type": "markdown",
      "source": [
        "### **Dropout Implementation :**\n",
        "\n",
        "\n",
        "*   Dropout of 0.5 in between first and second hidden layer \n",
        "*   Dropout of 0.6 in between second hidden and output layer\n",
        "\n"
      ]
    },
    {
      "metadata": {
        "id": "2BvCGykzVbPo",
        "colab_type": "code",
        "colab": {}
      },
      "cell_type": "code",
      "source": [
        "keep_prob1 = 0.5\n",
        "keep_prob2 = 0.6"
      ],
      "execution_count": 0,
      "outputs": []
    },
    {
      "metadata": {
        "id": "N2PCrWEtWMS3",
        "colab_type": "code",
        "colab": {}
      },
      "cell_type": "code",
      "source": [
        "d2 = np.random.rand(A2.shape[0],\n",
        "                    A2.shape[1]) < keep_prob1"
      ],
      "execution_count": 0,
      "outputs": []
    },
    {
      "metadata": {
        "id": "bbb3AvBEXaMw",
        "colab_type": "code",
        "colab": {
          "base_uri": "https://localhost:8080/",
          "height": 34
        },
        "outputId": "c9099424-e43e-4307-ae96-f0aa23ee401f"
      },
      "cell_type": "code",
      "source": [
        "d2"
      ],
      "execution_count": 38,
      "outputs": [
        {
          "output_type": "execute_result",
          "data": {
            "text/plain": [
              "array([[ True, False, False,  True]])"
            ]
          },
          "metadata": {
            "tags": []
          },
          "execution_count": 38
        }
      ]
    },
    {
      "metadata": {
        "id": "cchBHospXbfB",
        "colab_type": "code",
        "colab": {
          "base_uri": "https://localhost:8080/",
          "height": 34
        },
        "outputId": "d8594f7b-15a1-45ba-c220-86898b931958"
      },
      "cell_type": "code",
      "source": [
        "#similarly\n",
        "d3 = np.random.rand(A3.shape[0],\n",
        "                    A3.shape[1]) < keep_prob2\n",
        "d3"
      ],
      "execution_count": 41,
      "outputs": [
        {
          "output_type": "execute_result",
          "data": {
            "text/plain": [
              "array([[False]])"
            ]
          },
          "metadata": {
            "tags": []
          },
          "execution_count": 41
        }
      ]
    },
    {
      "metadata": {
        "id": "SvoyNz7JXoiC",
        "colab_type": "code",
        "colab": {}
      },
      "cell_type": "code",
      "source": [
        ""
      ],
      "execution_count": 0,
      "outputs": []
    },
    {
      "metadata": {
        "id": "CUgrVl71XwcI",
        "colab_type": "text"
      },
      "cell_type": "markdown",
      "source": [
        "### **Applying Dropout in Forward Prop :**"
      ]
    },
    {
      "metadata": {
        "id": "aNg5t5MaX0ST",
        "colab_type": "code",
        "colab": {}
      },
      "cell_type": "code",
      "source": [
        "#layer 1\n",
        "Z1 = np.dot(X,W1) + b1\n",
        "A1 = sigmoid(Z1)\n",
        "#layer 2\n",
        "Z2 = np.dot(A1,W2) + b2\n",
        "A2 = sigmoid(Z2)\n",
        "A2 = np.multiply(A2,d2)\n",
        "A2/=keep_prob1\n",
        "#layer 3\n",
        "Z3 = np.dot(A2,W3) + b3\n",
        "A3 = sigmoid(Z3)\n",
        "A3 = np.multiply(A3,d3)\n",
        "A3/=keep_prob2"
      ],
      "execution_count": 0,
      "outputs": []
    },
    {
      "metadata": {
        "id": "cXGLjvO3YKuQ",
        "colab_type": "code",
        "colab": {
          "base_uri": "https://localhost:8080/",
          "height": 34
        },
        "outputId": "2d52da17-c86d-4522-e393-140f048e3068"
      },
      "cell_type": "code",
      "source": [
        "A3"
      ],
      "execution_count": 43,
      "outputs": [
        {
          "output_type": "execute_result",
          "data": {
            "text/plain": [
              "array([[0.]])"
            ]
          },
          "metadata": {
            "tags": []
          },
          "execution_count": 43
        }
      ]
    },
    {
      "metadata": {
        "id": "rVgUMveOYLHa",
        "colab_type": "code",
        "colab": {}
      },
      "cell_type": "code",
      "source": [
        ""
      ],
      "execution_count": 0,
      "outputs": []
    }
  ]
}