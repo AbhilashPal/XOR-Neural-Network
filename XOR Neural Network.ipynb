{
 "cells": [
  {
   "cell_type": "code",
   "execution_count": 8,
   "metadata": {},
   "outputs": [],
   "source": [
    "import numpy as np\n",
    "from __future__ import print_function"
   ]
  },
  {
   "cell_type": "markdown",
   "metadata": {},
   "source": [
    " Loading our Data:\n",
    "---"
   ]
  },
  {
   "cell_type": "code",
   "execution_count": 9,
   "metadata": {},
   "outputs": [],
   "source": [
    "X = np.array([[0,0],[0,1],[1,0],[1,1]])\n",
    "Y = np.array([[0,1,1,0]])"
   ]
  },
  {
   "cell_type": "markdown",
   "metadata": {},
   "source": [
    "Initializing our Weights :\n",
    "---"
   ]
  },
  {
   "cell_type": "code",
   "execution_count": 10,
   "metadata": {},
   "outputs": [],
   "source": [
    "np.random.seed(1)\n",
    "W1 = np.random.randn(3,2)*0.0001\n",
    "b1 = np.ones((3,1))\n",
    "W2 = np.random.randn(1,3)*0.0001\n",
    "b2 = np.ones((1,1))"
   ]
  },
  {
   "cell_type": "markdown",
   "metadata": {},
   "source": [
    "Helper Functions :\n",
    "---"
   ]
  },
  {
   "cell_type": "code",
   "execution_count": 11,
   "metadata": {},
   "outputs": [],
   "source": [
    "def sigmoid(x):\n",
    "    return 1/(1+np.exp(x))\n",
    "def sigmoid_gradient(x):\n",
    "    return x*(1-x)"
   ]
  },
  {
   "cell_type": "code",
   "execution_count": 12,
   "metadata": {},
   "outputs": [
    {
     "name": "stdout",
     "output_type": "stream",
     "text": [
      "[[0 0]\n",
      " [0 1]\n",
      " [1 0]\n",
      " [1 1]]\n",
      "[[0 1 1 0]]\n"
     ]
    }
   ],
   "source": [
    "print(X)\n",
    "print(Y)"
   ]
  },
  {
   "cell_type": "markdown",
   "metadata": {},
   "source": [
    "Gradient Descent :\n",
    "---"
   ]
  },
  {
   "cell_type": "code",
   "execution_count": 16,
   "metadata": {},
   "outputs": [
    {
     "name": "stdout",
     "output_type": "stream",
     "text": [
      "[[1.86522372e-27 1.86483469e-27 1.86493937e-27 1.86455038e-27]]\n",
      "[[4.24699685e-30 4.24605948e-30 4.24624689e-30 4.24530965e-30]]\n",
      "[[9.67014410e-33 9.66788138e-33 9.66821410e-33 9.66595173e-33]]\n",
      "[[2.20183085e-35 2.20128426e-35 2.20134291e-35 2.20079642e-35]]\n",
      "[[5.01343004e-38 5.01210992e-38 5.01221272e-38 5.01089287e-38]]\n",
      "[[1.14152641e-40 1.14120787e-40 1.14122579e-40 1.14090732e-40]]\n",
      "[[2.59918368e-43 2.59841608e-43 2.59844718e-43 2.59767977e-43]]\n",
      "[[5.91817737e-46 5.91633078e-46 5.91638456e-46 5.91453845e-46]]\n",
      "[[1.34753168e-48 1.34708827e-48 1.34709754e-48 1.34665425e-48]]\n",
      "[[3.06824468e-51 3.06718201e-51 3.06719792e-51 3.06613557e-51]]\n"
     ]
    }
   ],
   "source": [
    "learning_rate = 0.001\n",
    "m = 4\n",
    "for iteration in range(100000):\n",
    "    \n",
    "    #forward propagation\n",
    "    \n",
    "    #layer1\n",
    "    Z1 = np.dot(W1,X.T)+b1\n",
    "    A1 = sigmoid(Z1)\n",
    "    #layer2\n",
    "    Z2 = np.dot(W2,A1)+b2\n",
    "    A2 = sigmoid(Z2)\n",
    "    \n",
    "    #backpropagation\n",
    "    \n",
    "    dZ2 = Y-A2\n",
    "    dW2 = np.dot(dZ2,A1.T)/m\n",
    "    db2 = np.sum(dZ2,axis=1,keepdims=True)/m\n",
    "    \n",
    "    dZ1 = np.dot(dW2.T,dZ2)*sigmoid_gradient(Z1)\n",
    "    dW1 = np.dot(dZ1,X )/m\n",
    "    db1 = np.sum(dZ1,axis=1,keepdims=True)/m\n",
    "    \n",
    "    \n",
    "    #checking if shapes are correctly preserved\n",
    "    \n",
    "    assert(dZ2.shape==Z2.shape)\n",
    "    assert(dW2.shape==W2.shape)\n",
    "    assert(db2.shape==b2.shape)\n",
    "    assert(dZ1.shape==Z1.shape)\n",
    "    assert(dW1.shape==W1.shape)\n",
    "    assert(db1.shape==b1.shape)\n",
    "    \n",
    "    #update parameters\n",
    "    \n",
    "    W1 = W1 + learning_rate*dW1\n",
    "    W2 = W2 + learning_rate*dW2\n",
    "    b1 = b1 + learning_rate*db1\n",
    "    b2 = b2 + learning_rate*db2\n",
    "    \n",
    "    # print every 10k\n",
    "    if(iteration%10000==0):\n",
    "        print(A2)"
   ]
  },
  {
   "cell_type": "code",
   "execution_count": null,
   "metadata": {},
   "outputs": [],
   "source": []
  },
  {
   "cell_type": "code",
   "execution_count": null,
   "metadata": {},
   "outputs": [],
   "source": []
  }
 ],
 "metadata": {
  "kernelspec": {
   "display_name": "Python 3",
   "language": "python",
   "name": "python3"
  },
  "language_info": {
   "codemirror_mode": {
    "name": "ipython",
    "version": 3
   },
   "file_extension": ".py",
   "mimetype": "text/x-python",
   "name": "python",
   "nbconvert_exporter": "python",
   "pygments_lexer": "ipython3",
   "version": "3.5.0"
  }
 },
 "nbformat": 4,
 "nbformat_minor": 2
}
