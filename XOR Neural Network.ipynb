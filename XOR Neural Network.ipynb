{
 "cells": [
  {
   "cell_type": "code",
   "execution_count": 2,
   "metadata": {},
   "outputs": [],
   "source": [
    "import numpy as np\n",
    "from __future__ import print_function"
   ]
  },
  {
   "cell_type": "markdown",
   "metadata": {},
   "source": [
    " Loading our Data:\n",
    "---"
   ]
  },
  {
   "cell_type": "code",
   "execution_count": 7,
   "metadata": {},
   "outputs": [],
   "source": [
    "X = np.array([[0,0],[0,1],[1,0],[1,1]])\n",
    "Y = np.array([0,1,1,0])"
   ]
  },
  {
   "cell_type": "markdown",
   "metadata": {},
   "source": [
    "Initializing our Weights :\n",
    "---"
   ]
  },
  {
   "cell_type": "code",
   "execution_count": 34,
   "metadata": {},
   "outputs": [],
   "source": [
    "np.random.seed(1)\n",
    "W1 = np.random.randn(3,2)\n",
    "b1 = np.ones((3,1))\n",
    "W2 = np.random.randn(1,3)\n",
    "b2 = np.ones((1,1))"
   ]
  },
  {
   "cell_type": "markdown",
   "metadata": {},
   "source": [
    "Helper Functions :\n",
    "---"
   ]
  },
  {
   "cell_type": "code",
   "execution_count": 18,
   "metadata": {},
   "outputs": [],
   "source": [
    "def sigmoid(x):\n",
    "    return 1/(1+np.exp(x))\n",
    "def sigmoid_gradient(x):\n",
    "    return x*(1-x)"
   ]
  },
  {
   "cell_type": "markdown",
   "metadata": {},
   "source": [
    "Gradient Descent :\n",
    "---"
   ]
  },
  {
   "cell_type": "code",
   "execution_count": 37,
   "metadata": {},
   "outputs": [
    {
     "name": "stdout",
     "output_type": "stream",
     "text": [
      "[[nan nan nan nan]]\n",
      "[[nan nan nan nan]]\n",
      "[[nan nan nan nan]]\n",
      "[[nan nan nan nan]]\n",
      "[[nan nan nan nan]]\n",
      "[[nan nan nan nan]]\n",
      "[[nan nan nan nan]]\n",
      "[[nan nan nan nan]]\n",
      "[[nan nan nan nan]]\n",
      "[[nan nan nan nan]]\n"
     ]
    }
   ],
   "source": [
    "learning_rate = 1\n",
    "m = 4\n",
    "for iteration in range(100000):\n",
    "    \n",
    "    #forward propagation\n",
    "    \n",
    "    #layer1\n",
    "    Z1 = np.dot(W1,X.T)+b1\n",
    "    A1 = sigmoid(Z1)\n",
    "    #layer2\n",
    "    Z2 = np.dot(W2,A1)+b2\n",
    "    A2 = sigmoid(Z2)\n",
    "    \n",
    "    #backpropagation\n",
    "    \n",
    "    dZ2 = A2-Y;\n",
    "    dW2 = (1/m)*np.dot(dZ2,A1.T)\n",
    "    db2 = (1/m)*np.sum(dZ2,axis=1,keepdims=True)\n",
    "    dZ1 = np.multiply(W2.T,dZ2)*sigmoid_gradient(Z1)\n",
    "    dW1 = (1/m)*np.dot(dZ1,X )\n",
    "    db1 = (1/m)*np.sum(dZ1,axis=1,keepdims=True)\n",
    "    \n",
    "    #update parameters\n",
    "    W1 = W1 - learning_rate*dW1\n",
    "    W2 = W2 - learning_rate*dW2\n",
    "    b1 = b1 - learning_rate*db1\n",
    "    b2 = b2 - learning_rate*db2\n",
    "    \n",
    "    # print every 10k\n",
    "    if(iteration%10000==0):\n",
    "        print(A2)"
   ]
  },
  {
   "cell_type": "code",
   "execution_count": null,
   "metadata": {},
   "outputs": [],
   "source": []
  },
  {
   "cell_type": "code",
   "execution_count": null,
   "metadata": {},
   "outputs": [],
   "source": []
  }
 ],
 "metadata": {
  "kernelspec": {
   "display_name": "Python 3",
   "language": "python",
   "name": "python3"
  },
  "language_info": {
   "codemirror_mode": {
    "name": "ipython",
    "version": 3
   },
   "file_extension": ".py",
   "mimetype": "text/x-python",
   "name": "python",
   "nbconvert_exporter": "python",
   "pygments_lexer": "ipython3",
   "version": "3.5.0"
  }
 },
 "nbformat": 4,
 "nbformat_minor": 2
}
